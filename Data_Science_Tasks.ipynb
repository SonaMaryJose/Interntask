{
 "cells": [
  {
   "cell_type": "markdown",
   "id": "aa9334fe",
   "metadata": {},
   "source": [
    "# Data Analysis and Data Science with Python\n",
    "## Task Solutions in Python"
   ]
  },
  {
   "cell_type": "markdown",
   "id": "06a76057",
   "metadata": {},
   "source": [
    "## Task 1: Student Pass/Fail Prediction\n",
    "**Objective:** Build a classifier to predict if a student has passed based on their study hours and attendance."
   ]
  },
  {
   "cell_type": "code",
   "execution_count": null,
   "id": "064dad94",
   "metadata": {},
   "outputs": [],
   "source": [
    "# Task 1: Student Pass/Fail Prediction\n",
    "import pandas as pd\n",
    "from sklearn.model_selection import train_test_split\n",
    "from sklearn.linear_model import LogisticRegression\n",
    "from sklearn.metrics import classification_report, confusion_matrix, accuracy_score\n",
    "\n",
    "# Sample dataset creation\n",
    "data = pd.DataFrame({\n",
    "    'Study Hours': [2, 3, 4, 5, 6, 7, 8, 9, 10, 11],\n",
    "    'Attendance': [40, 50, 60, 65, 70, 75, 80, 85, 90, 95],\n",
    "    'Pass': [0, 0, 0, 0, 1, 1, 1, 1, 1, 1]\n",
    "})\n",
    "\n",
    "# Features and target\n",
    "X = data[['Study Hours', 'Attendance']]\n",
    "y = data['Pass']\n",
    "\n",
    "# Train-test split\n",
    "X_train, X_test, y_train, y_test = train_test_split(X, y, test_size=0.2, random_state=42)\n",
    "\n",
    "# Model training\n",
    "model = LogisticRegression()\n",
    "model.fit(X_train, y_train)\n",
    "\n",
    "# Predictions\n",
    "y_pred = model.predict(X_test)\n",
    "\n",
    "# Evaluation\n",
    "print('Confusion Matrix:\\n', confusion_matrix(y_test, y_pred))\n",
    "print('\\nClassification Report:\\n', classification_report(y_test, y_pred))\n",
    "print('\\nAccuracy Score:', accuracy_score(y_test, y_pred))"
   ]
  },
  {
   "cell_type": "markdown",
   "id": "664cd790",
   "metadata": {},
   "source": [
    "## Task 2: Sentiment Analysis with Natural Language Processing\n",
    "**Objective:** Create a classifier to classify sentences into positive or negative sentiment."
   ]
  },
  {
   "cell_type": "code",
   "execution_count": null,
   "id": "d378ef95",
   "metadata": {},
   "outputs": [],
   "source": [
    "# Task 2: Sentiment Analysis with NLP\n",
    "import pandas as pd\n",
    "from sklearn.model_selection import train_test_split\n",
    "from sklearn.feature_extraction.text import TfidfVectorizer\n",
    "from sklearn.naive_bayes import MultinomialNB\n",
    "from sklearn.metrics import classification_report, confusion_matrix, accuracy_score\n",
    "\n",
    "# Sample dataset\n",
    "data = pd.DataFrame({\n",
    "    'Review': [\n",
    "        'I love this movie',\n",
    "        'This was a great experience',\n",
    "        'Absolutely terrible, hated it',\n",
    "        'Not good, very boring',\n",
    "        'Best film I have seen!',\n",
    "        'Worst movie of the year',\n",
    "        'I enjoyed it a lot',\n",
    "        'It was a waste of time'\n",
    "    ],\n",
    "    'Sentiment': [1, 1, 0, 0, 1, 0, 1, 0]\n",
    "})\n",
    "\n",
    "# Text vectorization\n",
    "tfidf = TfidfVectorizer()\n",
    "X = tfidf.fit_transform(data['Review'])\n",
    "y = data['Sentiment']\n",
    "\n",
    "# Train-test split\n",
    "X_train, X_test, y_train, y_test = train_test_split(X, y, test_size=0.25, random_state=42)\n",
    "\n",
    "# Model training\n",
    "model = MultinomialNB()\n",
    "model.fit(X_train, y_train)\n",
    "\n",
    "# Predictions\n",
    "y_pred = model.predict(X_test)\n",
    "\n",
    "# Evaluation\n",
    "print('Confusion Matrix:\\n', confusion_matrix(y_test, y_pred))\n",
    "print('\\nClassification Report:\\n', classification_report(y_test, y_pred))\n",
    "print('\\nAccuracy Score:', accuracy_score(y_test, y_pred))"
   ]
  }
 ],
 "metadata": {},
 "nbformat": 4,
 "nbformat_minor": 5
}
