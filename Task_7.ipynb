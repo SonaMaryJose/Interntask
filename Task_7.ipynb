{
 "cells": [
  {
   "cell_type": "markdown",
   "metadata": {},
   "source": [
    "# Task 7: Dimensionality Reduction & Stock Price Prediction\n",
    "\n",
    "This project consists of two objectives:\n",
    "1. **Dimensionality Reduction** – Using Principal Component Analysis (PCA) for stock market data.\n",
    "2. **Stock Price Prediction** – Using Time Series Forecasting with ARIMA."
   ]
  },
  {
   "cell_type": "markdown",
   "metadata": {},
   "source": [
    "## Part 1: Dimensionality Reduction\n",
    "**🎯 Objective:** Reduce N×M dimensional data to 2D for visualization."
   ]
  },
  {
   "cell_type": "code",
   "metadata": {},
   "execution_count": null,
   "outputs": [],
   "source": [
    "# Step 1: Load Dataset\n",
    "import pandas as pd\n",
    "from sklearn.preprocessing import StandardScaler\n",
    "from sklearn.decomposition import PCA\n",
    "import matplotlib.pyplot as plt\n",
    "\n",
    "df = pd.read_csv(\"stock_features.csv\")  # N×M data with many features\n",
    "df.head()"
   ]
  },
  {
   "cell_type": "code",
   "metadata": {},
   "execution_count": null,
   "outputs": [],
   "source": [
    "# Step 2: Standardize\n",
    "scaler = StandardScaler()\n",
    "scaled_data = scaler.fit_transform(df)\n",
    "\n",
    "# Step 3: Apply PCA\n",
    "pca = PCA(n_components=2)\n",
    "pca_result = pca.fit_transform(scaled_data)\n",
    "\n",
    "# Step 4: Plot Result\n",
    "plt.figure(figsize=(8, 6))\n",
    "plt.scatter(pca_result[:, 0], pca_result[:, 1], alpha=0.5)\n",
    "plt.title('PCA of Stock Features')\n",
    "plt.xlabel('PC1')\n",
    "plt.ylabel('PC2')\n",
    "plt.grid(True)\n",
    "plt.show()"
   ]
  },
  {
   "cell_type": "markdown",
   "metadata": {},
   "source": [
    "---\n",
    "## Part 2: Stock Price Prediction Using Time Series Forecasting\n",
    "**🎯 Objective:** Predict future stock prices based on historical data."
   ]
  },
  {
   "cell_type": "code",
   "metadata": {},
   "execution_count": null,
   "outputs": [],
   "source": [
    "# Step 1: Load Dataset\n",
    "df = pd.read_csv(\"stock_prices.csv\")\n",
    "df['Date'] = pd.to_datetime(df['Date'])\n",
    "df.set_index('Date', inplace=True)\n",
    "df = df.sort_index()\n",
    "df.head()"
   ]
  },
  {
   "cell_type": "code",
   "metadata": {},
   "execution_count": null,
   "outputs": [],
   "source": [
    "# Step 2: EDA\n",
    "df['Close'].plot(figsize=(10, 4), title='Stock Closing Prices')"
   ]
  },
  {
   "cell_type": "code",
   "metadata": {},
   "execution_count": null,
   "outputs": [],
   "source": [
    "# Step 3: Feature Engineering (Optional)\n",
    "df['Returns'] = df['Close'].pct_change()\n",
    "df['7_day_MA'] = df['Close'].rolling(window=7).mean()\n",
    "df[['Close', '7_day_MA']].plot(title='Close & 7-Day Moving Average')"
   ]
  },
  {
   "cell_type": "code",
   "metadata": {},
   "execution_count": null,
   "outputs": [],
   "source": [
    "# Step 4: Train ARIMA Model\n",
    "from statsmodels.tsa.arima.model import ARIMA\n",
    "from sklearn.metrics import mean_squared_error, mean_absolute_error\n",
    "\n",
    "train = df['Close'][:-30]\n",
    "test = df['Close'][-30:]\n",
    "\n",
    "model = ARIMA(train, order=(5, 1, 0))\n",
    "fitted = model.fit()\n",
    "forecast = fitted.forecast(steps=30)\n",
    "\n",
    "# Step 5: Evaluate\n",
    "mae = mean_absolute_error(test, forecast)\n",
    "mse = mean_squared_error(test, forecast)\n",
    "print(f\"MAE: {mae:.2f}, MSE: {mse:.2f}\")\n",
    "\n",
    "# Plot\n",
    "plt.figure(figsize=(10,5))\n",
    "plt.plot(test.index, test, label='Actual')\n",
    "plt.plot(test.index, forecast, label='Forecast', linestyle='--')\n",
    "plt.title('ARIMA Stock Forecast')\n",
    "plt.legend()\n",
    "plt.show()"
   ]
  },
  {
   "cell_type": "markdown",
   "metadata": {},
   "source": [
    "## ✅ Improvements Over Previous Version\n",
    "- Clearer project objectives and structure.\n",
    "- Separate sections for both PCA and Forecasting.\n",
    "- Added data preprocessing, feature engineering, and error analysis.\n",
    "- Better deliverable clarity for actionable insights."
   ]
  },
  {
   "cell_type": "markdown",
   "metadata": {},
   "source": [
    "### 📅 Deadline Compliance\n",
    "- Submit the project within 7 days from the start date.\n",
    "- Maintain professional presentation with comments and structure.\n",
    "- Focus on reproducibility, insights, and clean error-free execution."
   ]
  }
 ],
 "metadata": {
  "kernelspec": {
   "display_name": "Python 3",
   "language": "python",
   "name": "python3"
  },
  "language_info": {
   "name": "python",
   "version": "3.10"
  }
 },
 "nbformat": 4,
 "nbformat_minor": 5
}
