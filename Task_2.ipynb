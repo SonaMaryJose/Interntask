{
 "cells": [
  {
   "cell_type": "markdown",
   "metadata": {},
   "source": [
    "# DATA ANALYSIS AND DATA SCIENCE WITH PYTHON\n",
    "## TASK 2: Exploratory Data Analysis (EDA) and Sales Performance Analysis\n",
    "\n",
    "**Objective**: Perform comprehensive EDA and build a sales prediction model"
   ]
  },
  {
   "cell_type": "code",
   "execution_count": null,
   "metadata": {},
   "outputs": [],
   "source": [
    "# Import all required libraries\n",
    "import pandas as pd\n",
    "import numpy as np\n",
    "import matplotlib.pyplot as plt\n",
    "import seaborn as sns\n",
    "from sklearn.linear_model import LinearRegression\n",
    "from sklearn.model_selection import train_test_split\n",
    "from sklearn.metrics import mean_squared_error, r2_score\n",
    "\n",
    "# Configure visualization settings\n",
    "%matplotlib inline\n",
    "plt.style.use('seaborn')\n",
    "sns.set(style=\"whitegrid\", palette=\"muted\")\n",
    "pd.set_option('display.max_columns', 100)\n",
    "pd.set_option('display.float_format', lambda x: '%.2f' % x)"
   ]
  },
  {
   "cell_type": "markdown",
   "metadata": {},
   "source": [
    "## 1. Data Loading and Cleaning"
   ]
  },
  {
   "cell_type": "code",
   "execution_count": null,
   "metadata": {},
   "outputs": [],
   "source": [
    "def load_and_clean_data(filepath):\n",
    "    \"\"\"Load and preprocess the dataset\"\"\"\n",
    "    try:\n",
    "        # Load the dataset\n",
    "        df = pd.read_csv(filepath)\n",
    "        \n",
    "        # Initial inspection\n",
    "        print(f\"\\n{'='*50}\\nInitial Data Inspection\\n{'='*50}\")\n",
    "        display(df.head(3))\n",
           "        print(f\"\\nShape: {df.shape}\")\n",
    "        print(\"\\nMissing values:\")\n",
    "        display(df.isnull().sum())\n",
    "        \n",
    "        # Handle missing values\n",
    "        df = df.dropna()\n",
    "        \n",
    "        # Remove duplicates\n",
    "        df = df.drop_duplicates()\n",
    "        \n",
    "        # Remove outliers (for numerical columns)\n",
    "        numeric_cols = df.select_dtypes(include=[np.number]).columns\n",
    "        for col in numeric_cols:\n",
    "            q1 = df[col].quantile(0.25)\n",
    "            q3 = df[col].quantile(0.75)\n",
    "            iqr = q3 - q1\n",
    "            df = df[(df[col] >= q1 - 1.5*iqr) & (df[col] <= q3 + 1.5*iqr)]\n",
    "        \n",
    "        # Final check\n",
    "        print(f\"\\n{'='*50}\\nAfter Cleaning\\n{'='*50}\")\n",
    "        print(f\"New shape: {df.shape}\")\n",
    "        print(\"\\nMissing values after cleaning:\")\n",
    "        display(df.isnull().sum())\n",
    "        \n",
    "        return df\n",
    "    \n",
    "    except Exception as e:\n",
    "        print(f\"Error loading data: {e}\")\n",
    "        return None"
   ]
  },
  {
   "cell_type": "code",
   "execution_count": null,
   "metadata": {},
   "outputs": [],
   "source": [
    "# Load your dataset (replace with your actual file path)\n",
    "file_path = \"sales_data.csv\"  # or use \"global_superstore.csv\"\n",
    "df = load_and_clean_data(file_path)"
   ]
  },
  {
   "cell_type": "markdown",
   "metadata": {},
   "source": [
    "## 2. Exploratory Data Analysis (EDA)"
   ]
  },
  {
   "cell_type": "code",
   "execution_count": null,
   "metadata": {},
   "outputs": [],
   "source": [
    "def perform_eda(df):\n",
    "    \"\"\"Perform comprehensive exploratory data analysis\"\"\"\n",
    "    print(f\"\\n{'='*50}\\nExploratory Data Analysis\\n{'='*50}\")\n",
    "    \n",
    "    # Descriptive statistics\n",
    "    print(\"\\nDescriptive Statistics:\")\n",
    "    display(df.describe().T)\n",
    "    \n",
    "    # Correlation matrix\n",
    "    print(\"\\nCorrelation Matrix:\")\n",
    "    plt.figure(figsize=(12, 8))\n",
    "    sns.heatmap(df.corr(), annot=True, cmap='coolwarm', center=0, fmt='.2f')\n",
    "    plt.title('Correlation Heatmap')\n",
    "    plt.show()\n",
    "    \n",
    "    # Distributions of numerical features\n",
    "    print(\"\\nNumerical Features Distribution:\")\n",
    "    num_cols = df.select_dtypes(include=[np.number]).columns\n",
    "    df[num_cols].hist(bins=20, figsize=(15, 10), layout=(3, 3))\n",
    "    plt.tight_layout()\n",
    "    plt.show()\n",
    "    \n",
    "    # Categorical analysis\n",
    "    cat_cols = df.select_dtypes(include=['object', 'category']).columns\n",
    "    if len(cat_cols) > 0:\n",
    "        print(\"\\nCategorical Features Analysis:\")\n",
    "        for col in cat_cols:\n",
    "            print(f\"\\nUnique values in {col}: {df[col].nunique()}\")\n",
    "            if df[col].nunique() < 15:  # Only plot for columns with limited categories\n",
    "                plt.figure(figsize=(10, 4))\n",
    "                sns.countplot(y=col, data=df, order=df[col].value_counts().index)\n",
    "                plt.title(f'Distribution of {col}')\n",
    "                plt.show()"
   ]
  },
  {
   "cell_type": "code",
   "execution_count": null,
   "metadata": {},
   "outputs": [],
   "source": [
    "# Perform EDA\n",
    "if df is not None:\n",
    "    perform_eda(df)"
   ]
  },
  {
   "cell_type": "markdown",
   "metadata": {},
   "source": [
    "## 3. Sales Performance Analysis"
   ]
  },
  {
   "cell_type": "code",
   "execution_count": null,
   "metadata": {},
   "outputs": [],
   "source": [
    "def analyze_sales(df, target_col='Sales'):\n",
    "    \"\"\"Analyze sales performance and build predictive model\"\"\"\n",
    "    print(f\"\\n{'='*50}\\nSales Performance Analysis\\n{'='*50}\")\n",
    "    \n",
    "    # Time series analysis if date column exists\n",
    "    if 'Date' in df.columns:\n",
    "        df['Date'] = pd.to_datetime(df['Date'])\n",
    "        df['YearMonth'] = df['Date'].dt.to_period('M')\n",
    "        \n",
    "        # Monthly sales trend\n",
    "        monthly_sales = df.groupby('YearMonth')[target_col].sum().reset_index()\n",
    "        monthly_sales['YearMonth'] = monthly_sales['YearMonth'].astype(str)\n",
    "        \n",
    "        plt.figure(figsize=(15, 6))\n",
    "        sns.lineplot(x='YearMonth', y=target_col, data=monthly_sales, marker='o')\n",
    "        plt.xticks(rotation=45)\n",
    "        plt.title('Monthly Sales Trend')\n",
    "        plt.ylabel('Total Sales')\n",
    "        plt.xlabel('Month')\n",
    "        plt.grid(True)\n",
    "        plt.show()\n",
    "    \n",
    "    # Sales by categorical features\n",
    "    cat_cols = [col for col in df.columns if df[col].dtype == 'object' and df[col].nunique() < 10]\n",
    "    \n",
    "    for col in cat_cols:\n",
    "        plt.figure(figsize=(10, 5))\n",
    "        sns.barplot(x=col, y=target_col, data=df, estimator=np.sum)\n",
    "        plt.title(f'Total Sales by {col}')\n",
    "        plt.xticks(rotation=45)\n",
    "        plt.show()\n",
    "    \n",
    "    # Prepare data for modeling\n",
    "    numeric_cols = df.select_dtypes(include=[np.number]).columns\n",
    "    X = df[numeric_cols].drop(target_col, axis=1, errors='ignore')\n",
    "    y = df[target_col]\n",
    "    \n",
    "    if len(X.columns) == 0:\n",
    "        print(\"No suitable numerical features found for modeling\")\n",
    "        return None\n",
    "    \n",
    "    # Train-test split\n",
    "    X_train, X_test, y_train, y_test = train_test_split(X, y, test_size=0.2, random_state=42)\n",
    "    \n",
    "    # Linear regression model\n",
    "    model = LinearRegression()\n",
    "    model.fit(X_train, y_train)\n",
    "    \n",
    "    # Evaluate model\n",
    "    y_pred = model.predict(X_test)\n",
    "    mse = mean_squared_error(y_test, y_pred)\n",
    "    r2 = r2_score(y_test, y_pred)\n",
    "    \n",
    "    print(f\"\\n{'='*50}\\nModel Evaluation\\n{'='*50}\")\n",
    "    print(f\"Mean Squared Error: {mse:.2f}\")\n",
    "    print(f\"R-squared: {r2:.2f}\")\n",
    "    \n",
    "    # Feature importance\n",
    "    importance = pd.DataFrame({\n",
    "        'Feature': X.columns,\n",
    "        'Coefficient': model.coef_\n",
    "    }).sort_values('Coefficient', ascending=False)\n",
    "    \n",
    "    print(f\"\\n{'='*50}\\nFeature Importance\\n{'='*50}\")\n",
    "    display(importance)\n",
    "    \n",
    "    plt.figure(figsize=(10, 6))\n",
    "    sns.barplot(x='Coefficient', y='Feature', data=importance)\n",
    "    plt.title('Feature Importance (Linear Regression Coefficients)')\n",
    "    plt.show()\n",
    "    \n",
    "    return model"
   ]
  },
  {
   "cell_type": "code",
   "execution_count": null,
   "metadata": {},
   "outputs": [],
   "source": [
    "# Analyze sales performance if data is loaded\n",
    "if df is not None:\n",
    "    model = analyze_sales(df)"
   ]
  },
  {
   "cell_type": "markdown",
   "metadata": {},
   "source": [
    "## 4. Summary and Next Steps"
   ]
  },
  {
   "cell_type": "code",
   "execution_count": null,
   "metadata": {},
   "outputs": [],
   "source": [
    "print(f\"\\n{'='*50}\\nAnalysis Summary\\n{'='*50}\")\n",
    "print(\"\"\"\n",
    "1. Data loaded and cleaned (missing values, duplicates, outliers handled)\n",
    "2. Comprehensive EDA performed (statistics, correlations, distributions)\n",
    "3. Sales performance analyzed through:\n",
    "   - Time trends (if date available)\n",
    "   - Category breakdowns\n",
    "4. Predictive model built with evaluation metrics\n",
    "\n",
    "Next Steps:\n",
    "- Feature engineering to improve model accuracy\n",
    "- Try more advanced models (Random Forest, XGBoost)\n",
    "- Business recommendations based on insights\n",
    "\"\"\")"
   ]
  }
 ],
 "metadata": {
  "kernelspec": {
   "display_name": "Python 3",
   "language": "python",
   "name": "python3"
  },
  "language_info": {
   "codemirror_mode": {
    "name": "ipython",
    "version": 3
   },
   "file_extension": ".py",
   "mimetype": "text/x-python",
   "name": "python",
   "nbconvert_exporter": "python",
   "pygments_lexer": "ipython3",
   "version": "3.8.5"
  }
 },
 "nbformat": 4,
 "nbformat_minor": 4
}
