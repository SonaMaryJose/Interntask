# -*- coding: utf-8 -*-
"""Sales Data Analysis Pipeline: Cleaning, EDA, and Modeling."""

import pandas as pd
import matplotlib.pyplot as plt
import seaborn as sns
from sklearn.linear_model import LinearRegression
from sklearn.model_selection import train_test_split
from sklearn.metrics import mean_squared_error, r2_score

# ---------------------------
# 1. DATA LOADING & CLEANING
# ---------------------------
def load_and_clean_data(filepath='sales_data.csv'):
    """Load CSV, handle missing values, and preprocess dates."""
    df = pd.read_csv(filepath)
    
    # Handle missing values
    numeric_cols = df.select_dtypes(include=['float64', 'int64']).columns
    df[numeric_cols] = df[numeric_cols].fillna(df[numeric_cols].mean())
    
    # Convert date column (adjust format as needed)
    if 'Order_Date' in df.columns:
        df['Order_Date'] = pd.to_datetime(df['Order_Date'], format='%Y-%m-%d')
    
    print("✅ Data loaded & cleaned. Missing values filled.")
    return df

# ---------------------------
# 2. EXPLORATORY ANALYSIS
# ---------------------------
def explore_data(df):
    """Generate summary stats and visualizations."""
    print("\n📊 Basic Statistics:")
    print(df.describe())
    
    print("\n🔄 Correlation Matrix:")
    print(df.corr())
    
    # Visualizations
    plt.figure(figsize=(12, 8))
    
    # Sales Trends (adjust column names)
    plt.subplot(2, 2, 1)
    df.groupby('Order_Date')['Sales'].sum().plot(title='Sales Over Time')
    plt.xlabel('Date')
    
    # Profit by Region
    plt.subplot(2, 2, 2)
    df.groupby('Region')['Profit'].sum().plot(kind='bar', color='skyblue', title='Profit by Region')
    plt.xticks(rotation=45)
    
    # Profit vs. Discount
    plt.subplot(2, 2, 3)
    sns.scatterplot(x='Discount', y='Profit', data=df, alpha=0.6)
    plt.title('Profit vs. Discount')
    
    # Correlation Heatmap
    plt.subplot(2, 2, 4)
    sns.heatmap(df.corr(), annot=True, cmap='coolwarm', center=0)
    plt.title('Correlation Matrix')
    
    plt.tight_layout()
    plt.savefig('sales_analysis_plots.png')  # Save plots
    plt.show()

# ---------------------------
# 3. MODELING (Linear Regression)
# ---------------------------
def train_model(df, target_col='Profit', test_size=0.2):
    """Train a linear regression model."""
    # Select features (modify as needed)
    features = ['Sales', 'Discount', 'Quantity']
    X = df[features]
    y = df[target_col]
    
    # Split data
    X_train, X_test, y_train, y_test = train_test_split(X, y, test_size=test_size, random_state=42)
    
    # Train model
    model = LinearRegression()
    model.fit(X_train, y_train)
    
    # Evaluate
    y_pred = model.predict(X_test)
    mse = mean_squared_error(y_test, y_pred)
    r2 = r2_score(y_test, y_pred)
    
    print(f"\n🧠 Model Performance:")
    print(f"- MSE: {mse:.2f}")
    print(f"- R² Score: {r2:.2f}")
    
    return model

# ---------------------------
# MAIN EXECUTION
# ---------------------------
if __name__ == '__main__':
    # Step 1: Load & clean data
    df = load_and_clean_data()
    
    # Step 2: Explore
    explore_data(df)
    
    # Step 3: Model
    model = train_model(df)
