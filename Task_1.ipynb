{
 "cells": [
  {
   "cell_type": "markdown",
   "id": "270a3ed7",
   "metadata": {},
   "source": [
    "# 📊 Student Performance Data Analysis\n",
    "This notebook performs data cleaning, analysis, and visualization on a student performance dataset using Python."
   ]
  },
  {
   "cell_type": "code",
   "execution_count": null,
   "id": "88f8685d",
   "metadata": {},
   "outputs": [],
   "source": [
    "import pandas as pd\n",
    "import matplotlib.pyplot as plt\n",
    "import seaborn as sns\n",
    "\n",
    "# Display settings\n",
    "pd.set_option('display.max_columns', None)\n",
    "sns.set(style='whitegrid')"
   ]
  },
  {
   "cell_type": "code",
   "execution_count": null,
   "id": "e53515c4",
   "metadata": {},
   "outputs": [],
   "source": [
    "# Load the dataset\n",
    "df = pd.read_csv(\"student-mat.csv\", sep=';', quotechar='\"')\n",
    "df.head()"
   ]
  },
  {
   "cell_type": "markdown",
   "id": "d8c1a8d8",
   "metadata": {},
   "source": [
    "## 🔍 Data Cleaning"
   ]
  },
  {
   "cell_type": "code",
   "execution_count": null,
   "id": "0969f027",
   "metadata": {},
   "outputs": [],
   "source": [
    "# Check for missing values\n",
    "missing_values = df.isnull().sum()\n",
    "print(\"Missing values per column:\")\n",
    "print(missing_values)\n",
    "\n",
    "# Drop rows with missing values (or you can fillna with median if needed)\n",
    "df = df.dropna()\n",
    "print(f\"Dataset shape after cleaning: {df.shape}\")"
   ]
  },
  {
   "cell_type": "markdown",
   "id": "68913292",
   "metadata": {},
   "source": [
    "## 📈 Data Analysis"
   ]
  },
  {
   "cell_type": "code",
   "execution_count": null,
   "id": "c9fd7537",
   "metadata": {},
   "outputs": [],
   "source": [
    "average_math_score = df['G1'].mean()\n",
    "print(f\"Average Math Score (G1): {average_math_score:.2f}\")"
   ]
  },
  {
   "cell_type": "code",
   "execution_count": null,
   "id": "72da5463",
   "metadata": {},
   "outputs": [],
   "source": [
    "high_achievers = df[df['G3'] > 17]\n",
    "print(f\"Number of students with final grade > 17: {len(high_achievers)}\")"
   ]
  },
  {
   "cell_type": "code",
   "execution_count": null,
   "id": "59eba278",
   "metadata": {},
   "outputs": [],
   "source": [
    "correlation = df['studytime'].corr(df['G3'])\n",
    "print(f\"Correlation between study time and final grade (G3): {correlation:.2f}\")"
   ]
  },
  {
   "cell_type": "code",
   "execution_count": null,
   "id": "022d0083",
   "metadata": {},
   "outputs": [],
   "source": [
    "average_grades_by_gender = df.groupby('sex')['G3'].mean()\n",
    "print(\"Average Final Grade by Gender:\")\n",
    "print(average_grades_by_gender)"
   ]
  },
  {
   "cell_type": "markdown",
   "id": "c354a645",
   "metadata": {},
   "source": [
    "## 📊 Data Visualization"
   ]
  },
  {
   "cell_type": "code",
   "execution_count": null,
   "id": "feba7a30",
   "metadata": {},
   "outputs": [],
   "source": [
    "plt.figure(figsize=(8,5))\n",
    "sns.histplot(df['G3'], bins=10, kde=True)\n",
    "plt.axvline(df['G3'].mean(), color='red', linestyle='--', label='Mean')\n",
    "plt.axvline(df['G3'].std() + df['G3'].mean(), color='green', linestyle=':', label='Std Dev')\n",
    "plt.title(\"Distribution of Final Grades (G3)\")\n",
    "plt.xlabel(\"Final Grade (G3)\")\n",
    "plt.legend()\n",
    "plt.show()"
   ]
  },
  {
   "cell_type": "code",
   "execution_count": null,
   "id": "555c42b4",
   "metadata": {},
   "outputs": [],
   "source": [
    "plt.figure(figsize=(8,5))\n",
    "sns.scatterplot(x='studytime', y='G3', data=df, hue='sex')\n",
    "plt.title(\"Study Time vs Final Grade\")\n",
    "plt.xlabel(\"Study Time\")\n",
    "plt.ylabel(\"Final Grade (G3)\")\n",
    "plt.show()"
   ]
  },
  {
   "cell_type": "markdown",
   "id": "51e9641f",
   "metadata": {},
   "source": [
    "## 📝 Analysis Summary\n",
    "- **Average Math Score:** Computed from G1.\n",
    "- **High Achievers:** Counted students scoring above 17 in G3.\n",
    "- **Study Time Correlation:** Assessed the strength of the relationship.\n",
    "- **Gender Performance:** Compared average grades.\n",
    "\n",
    "### ✅ Key Takeaways\n",
    "- These insights can help in identifying patterns in student performance and factors contributing to academic success."
   ]
  }
 ],
 "metadata": {},
 "nbformat": 4,
 "nbformat_minor": 5
}
