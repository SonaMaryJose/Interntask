import pandas as pd
import numpy as np
import matplotlib.pyplot as plt
from sklearn.preprocessing import StandardScaler
from sklearn.decomposition import PCA
from sklearn.discriminant_analysis import LinearDiscriminantAnalysis as LDA
from sklearn.manifold import TSNE
from sklearn.model_selection import train_test_split
from sklearn.linear_model import LogisticRegression
from sklearn.metrics import accuracy_score

# Sample stock-like dataset
np.random.seed(42)
n_samples = 300
X = pd.DataFrame({
    'Open': np.random.rand(n_samples) * 1000,
    'High': np.random.rand(n_samples) * 1000,
    'Low': np.random.rand(n_samples) * 1000,
    'Close': np.random.rand(n_samples) * 1000,
    'Volume': np.random.randint(100000, 5000000, size=n_samples)
})
y = np.random.choice([0, 1], size=n_samples)  # Binary labels

# Standardize
scaler = StandardScaler()
X_scaled = scaler.fit_transform(X)

# PCA
pca = PCA(n_components=2)
X_pca = pca.fit_transform(X_scaled)

# LDA
lda = LDA(n_components=1)
X_lda = lda.fit_transform(X_scaled, y)

# t-SNE
tsne = TSNE(n_components=2, perplexity=30, random_state=42)
X_tsne = tsne.fit_transform(X_scaled)

# Plot
fig, axes = plt.subplots(1, 3, figsize=(18, 5))

axes[0].scatter(X_pca[:, 0], X_pca[:, 1], c=y, cmap='coolwarm')
axes[0].set_title('PCA')

axes[1].scatter(X_lda[:, 0], [0]*len(X_lda), c=y, cmap='coolwarm')
axes[1].set_title('LDA')

axes[2].scatter(X_tsne[:, 0], X_tsne[:, 1], c=y, cmap='coolwarm')
axes[2].set_title('t-SNE')

plt.show()

# Train-test for prediction with PCA
X_train, X_test, y_train, y_test = train_test_split(X_pca, y, test_size=0.2, random_state=42)
model = LogisticRegression()
model.fit(X_train, y_train)
y_pred = model.predict(X_test)
print("Accuracy with PCA:", accuracy_score(y_test, y_pred))
