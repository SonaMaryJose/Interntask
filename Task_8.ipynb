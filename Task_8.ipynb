# Task 8: Feature Engineering and Model Tuning
# --------------------------------------------

# SECTION 1: Feature Engineering & Model Tuning

import pandas as pd
import numpy as np
from sklearn.datasets import load_iris
from sklearn.model_selection import train_test_split, GridSearchCV
from sklearn.ensemble import RandomForestClassifier
from sklearn.tree import DecisionTreeClassifier
from sklearn.metrics import classification_report, confusion_matrix, accuracy_score

# --------------------------------------------
# Feature Engineering Example with Student Dataset

print("=== Feature Engineering: Student Dataset ===")
df_students = pd.DataFrame({
    'Math': [80, 70, 60, 90],
    'Science': [85, 75, 70, 95],
    'English': [78, 72, 68, 92]
})

# Create total score feature
df_students['Total'] = df_students[['Math', 'Science', 'English']].sum(axis=1)
print(df_students)

# --------------------------------------------
# Hyperparameter Tuning using GridSearchCV on Iris Dataset

print("\n=== GridSearchCV: Iris Dataset ===")
iris = load_iris()
X_train_iris, X_test_iris, y_train_iris, y_test_iris = train_test_split(
    iris.data, iris.target, test_size=0.3, random_state=42
)

param_grid = {
    'n_estimators': [10, 50, 100],
    'max_depth': [None, 5, 10]
}

grid = GridSearchCV(RandomForestClassifier(), param_grid, cv=3)
grid.fit(X_train_iris, y_train_iris)

print("Best Parameters:", grid.best_params_)
print("Best Score:", grid.best_score_)

# --------------------------------------------
# SECTION 2: Fraud Detection with Decision Trees

print("\n=== Fraud Detection Dataset ===")

# Load your dataset (ensure fraud_detection.csv exists)
df = pd.read_csv("fraud_detection.csv")  # <- Replace with actual path

# Encode 'Type' column (credit/debit)
df['Type'] = df['Type'].astype('category').cat.codes

# Check for missing values
print("Missing Values:\n", df.isnull().sum())

# Feature Engineering: Log transformation on Amount
df['Amount_log'] = df['Amount'].apply(lambda x: np.log1p(x))

# Define features and label
X = df[['Amount', 'Type', 'Amount_log']]
y = df['isFraud']  # 1 = Fraud, 0 = Legitimate

# Train-test split
X_train, X_test, y_train, y_test = train_test_split(X, y, test_size=0.3, random_state=42)

# Train Decision Tree Classifier
clf = DecisionTreeClassifier()
clf.fit(X_train, y_train)

# Predict and evaluate
y_pred = clf.predict(X_test)

print("\n=== Model Evaluation ===")
print("Accuracy:", accuracy_score(y_test, y_pred))
print("Confusion Matrix:\n", confusion_matrix(y_test, y_pred))
print("Classification Report:\n", classification_report(y_test, y_pred))

# --------------------------------------------
# RECOMMENDATIONS
print("=== Recommendations ===")
print("- Try ensemble models like Random Forest or XGBoost for better results.")
print("- Use techniques like SMOTE to handle class imbalance.")
print("- Perform more detailed feature engineering with domain-specific insights.")
print("- Use GridSearchCV or RandomizedSearchCV to tune Decision Tree/Random Forest.")
