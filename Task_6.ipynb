{
 "cells": [
  {
   "cell_type": "markdown",
   "id": "205081be",
   "metadata": {},
   "source": [
    "# Task-6: Time Series Analysis\n",
    "\n",
    "**Objective:**\n",
    "Analyze sales data over time and forecast future sales using statistical models."
   ]
  },
  {
   "cell_type": "markdown",
   "id": "e1b1fd8a",
   "metadata": {},
   "source": [
    "## Project Steps\n",
    "\n",
    "### 1. Dataset Selection\n",
    "- The dataset should include at least two columns:\n",
    "  - `Date`: The timestamp when the data record was taken\n",
    "  - `Sales`: The sales volume or revenue corresponding to that date\n",
    "- Ensure data is free from missing values and is in a clean format."
   ]
  },
  {
   "cell_type": "markdown",
   "id": "f1ac6002",
   "metadata": {},
   "source": [
    "### 2. Tasks to Perform\n",
    "\n",
    "#### a. Visualize Sales Trends Over Time\n",
    "- Plot the data to identify patterns such as seasonality, trends, or irregularities.\n",
    "- Use line plots and rolling averages to explore fluctuations over time."
   ]
  },
  {
   "cell_type": "markdown",
   "id": "7c07b9e5",
   "metadata": {},
   "source": [
    "#### b. Use ARIMA to Forecast Sales\n",
    "- Apply the AutoRegressive Integrated Moving Average (ARIMA) model to the dataset to predict future sales.\n",
    "- Use statistical libraries such as `statsmodels` or `pmdarima`.\n",
    "- Evaluate the model's accuracy using error metrics like RMSE or MAPE."
   ]
  },
  {
   "cell_type": "markdown",
   "id": "44ab4731",
   "metadata": {},
   "source": [
    "### 3. Deliverables\n",
    "- A trained ARIMA model that reliably predicts sales\n",
    "- Visualizations showcasing the time trends and forecasts using statistical tools"
   ]
  },
  {
   "cell_type": "markdown",
   "id": "bbda9d3d",
   "metadata": {},
   "source": [
    "---\n",
    "\n",
    "# Project Description: Predicting Heart Disease Using Logistic Regression\n",
    "\n",
    "**Objective:**\n",
    "Predict whether a patient has heart disease based on key medical parameters."
   ]
  },
  {
   "cell_type": "markdown",
   "id": "63c3fc3a",
   "metadata": {},
   "source": [
    "## Project Steps\n",
    "\n",
    "### 1. Dataset Selection\n",
    "- Dataset Name: `heart_disease.csv`\n",
    "- Columns:\n",
    "  - Patient age, sex\n",
    "  - Chest pain type\n",
    "  - Resting blood pressure, cholesterol level\n",
    "  - Blood pressure — Serum cholesterol, Fasting blood sugar\n",
    "  - Heart Disease — Target variable (0 or 1)"
   ]
  },
  {
   "cell_type": "markdown",
   "id": "3b3ffc32",
   "metadata": {},
   "source": [
    "### 2. Tasks to Perform\n",
    "\n",
    "#### a. Load the Dataset\n",
    "- Check for missing or inconsistent data\n",
    "- Clean the records by handling null values, if any, and duplicates"
   ]
  },
  {
   "cell_type": "markdown",
   "id": "d3936428",
   "metadata": {},
   "source": [
    "#### b. Feature Engineering\n",
    "- Normalize or scale numerical features like Age, Cholesterol, and Blood Pressure to improve model performance"
   ]
  },
  {
   "cell_type": "markdown",
   "id": "d94ff5e7",
   "metadata": {},
   "source": [
    "#### c. Model Training\n",
    "- Train a Logistic Regression model to classify patients at having heart disease or not"
   ]
  },
  {
   "cell_type": "markdown",
   "id": "1e5c3de3",
   "metadata": {},
   "source": [
    "#### d. Model Evaluation\n",
    "- Measure model accuracy using a confusion matrix and classification metrics like precision, recall, F1-score"
   ]
  },
  {
   "cell_type": "markdown",
   "id": "ec43b87c",
   "metadata": {},
   "source": [
    "### 3. Deliverables\n",
    "- Logistic Regression Model: Trained model to predict heart disease\n",
    "- Descriptive Report:\n",
    "  - Accuracy, precision, recall, F1-score, and ROC curve"
   ]
  },
  {
   "cell_type": "markdown",
   "id": "5dda1aa1",
   "metadata": {},
   "source": [
    "---\n",
    "\n",
    "## Would you like recommendations on how to improve model performance? 🧠"
   ]
  },
  {
   "cell_type": "markdown",
   "id": "826c5a21",
   "metadata": {},
   "source": [
    "## Deadline Compliance\n",
    "\n",
    "- **Restriction:** Submit the project within 4 days from the start date.\n",
    "  - Reason: Handy timeline to retain learnings and continue consistent improvement\n",
    "- Interns must follow instructions strictly to gain maximum learning and task satisfaction.\n",
    "- Learning Outcomes: Students will be managing their time effectively, completing projects independently, and deliver results on time, which are all important skills in the workplace."
   ]
  }
 ],
 "metadata": {},
 "nbformat": 4,
 "nbformat_minor": 5
}
