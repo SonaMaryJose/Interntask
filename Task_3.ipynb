# Customer Segmentation using Clustering

# Step 1: Import Required Libraries
import pandas as pd
import numpy as np
import matplotlib.pyplot as plt
import seaborn as sns
from sklearn.preprocessing import StandardScaler
from sklearn.cluster import KMeans
from sklearn.decomposition import PCA

# Step 2: Load the Dataset
df = pd.read_csv("customer_data.csv")  # Replace with actual file name
df.dropna(inplace=True)  # Remove missing values if any

# Step 3: Data Overview
print(df.head())
print(df.info())
print(df.describe())

# Step 4: Selecting Numeric Features
X = df.select_dtypes(include=[np.number])

# Step 5: Standardizing the Data
scaler = StandardScaler()
X_scaled = scaler.fit_transform(X)

# Step 6: Elbow Method to Find Optimal Clusters
wcss = []
for i in range(1, 11):
    kmeans = KMeans(n_clusters=i, init='k-means++', random_state=42)
    kmeans.fit(X_scaled)
    wcss.append(kmeans.inertia_)

# Plotting the Elbow Curve
plt.figure(figsize=(8, 4))
plt.plot(range(1, 11), wcss, marker='o')
plt.title('Elbow Method - Optimal Number of Clusters')
plt.xlabel('Number of Clusters')
plt.ylabel('WCSS')
plt.grid(True)
plt.show()

# Step 7: Apply KMeans Clustering
optimal_clusters = 4  # Choose based on elbow graph
kmeans = KMeans(n_clusters=optimal_clusters, init='k-means++', random_state=42)
df['Cluster'] = kmeans.fit_predict(X_scaled)

# Step 8: PCA for 2D Visualization
pca = PCA(n_components=2)
pca_components = pca.fit_transform(X_scaled)
df['PCA1'] = pca_components[:, 0]
df['PCA2'] = pca_components[:, 1]

# Visualizing the Clusters
plt.figure(figsize=(8, 6))
sns.scatterplot(data=df, x='PCA1', y='PCA2', hue='Cluster', palette='Set2')
plt.title('Customer Segmentation using PCA')
plt.show()

# Step 9: Cluster Profile Summary
cluster_summary = df.groupby('Cluster').mean()
print(cluster_summary)

# Optional: Save to CSV
df.to_csv("segmented_customers.csv", index=False)
