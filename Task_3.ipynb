# Customer Segmentation using KMeans and PCA

# Step 1: Import libraries
import pandas as pd
import numpy as np
import matplotlib.pyplot as plt
import seaborn as sns
from sklearn.preprocessing import StandardScaler
from sklearn.cluster import KMeans
from sklearn.decomposition import PCA

# Step 2: Load dataset (replace with your own file name if needed)
df = pd.read_csv("customer_data.csv")  # <-- Replace this if needed
df.dropna(inplace=True)

# Step 3: Explore dataset
print("First 5 rows:\n", df.head())
print("\nInfo:\n")
print(df.info())
print("\nSummary:\n", df.describe())

# Step 4: Select numeric columns
X = df.select_dtypes(include=[np.number])

# Step 5: Scale the data
scaler = StandardScaler()
X_scaled = scaler.fit_transform(X)

# Step 6: Elbow Method to find optimal number of clusters
wcss = []
for i in range(1, 11):
    kmeans = KMeans(n_clusters=i, init='k-means++', random_state=42)
    kmeans.fit(X_scaled)
    wcss.append(kmeans.inertia_)

plt.figure(figsize=(8, 4))
plt.plot(range(1, 11), wcss, marker='o')
plt.title('Elbow Method for Optimal k')
plt.xlabel('Number of Clusters')
plt.ylabel('WCSS')
plt.grid(True)
plt.show()

# Step 7: Apply KMeans with chosen k (e.g. 4)
k = 4
kmeans = KMeans(n_clusters=k, init='k-means++', random_state=42)
df['Cluster'] = kmeans.fit_predict(X_scaled)

# Step 8: Reduce dimensions for visualization using PCA
pca = PCA(n_components=2)
pca_components = pca.fit_transform(X_scaled)
df['PCA1'] = pca_components[:, 0]
df['PCA2'] = pca_components[:, 1]

# Step 9: Visualize clusters
plt.figure(figsize=(8, 6))
sns.scatterplot(data=df, x='PCA1', y='PCA2', hue='Cluster', palette='Set2')
plt.title('Customer Clusters (via PCA)')
plt.xlabel('PCA1')
plt.ylabel('PCA2')
plt.grid(True)
plt.show()

# Step 10: Print cluster summary
cluster_summary = df.groupby('Cluster').mean()
print("\nCluster Summary:\n", cluster_summary)

# Step 11: Optional - Export results
df.to_csv("segmented_customers.csv", index=False)
